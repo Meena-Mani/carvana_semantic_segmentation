{
 "cells": [
  {
   "cell_type": "markdown",
   "metadata": {},
   "source": [
    "## U-Net+residual blocks: A modified U-Net inspired by the Kaggle Carvana Image Masking Challenge solutions\n",
    "\n",
    "\n",
    "Date created: Oct 10, 2017   \n",
    "Last modified: Feb 3, 2018  \n",
    "Tags: U-Net, semantic segmentation, CNNs, dilated convolutions, residual block  \n",
    "About: modified U-Nets"
   ]
  },
  {
   "cell_type": "markdown",
   "metadata": {},
   "source": [
    "The U-Net <a href=\"#ref1\">[1]</a> was the most widely implemented deep learning network in the recently concluded [Carvana Image Masking Challenge](https://www.kaggle.com/c/carvana-image-masking-challenge) on Kaggle and the competition was an opportunity to experiment with different \n",
    "[U-Net](#UNet) architectures. The [third place solution](https://www.kaggle.com/c/carvana-image-masking-challenge/discussion/40199) ([github code](https://github.com/lyakaap/Kaggle-Carvana-3rd-place-solution)) was a modified  U-Net that used dilated convolution blocks in the bottleneck region (the region at the junction of the contracting and expanding paths). This simple change, which was responsible for the high scoring (0.997193) results, used fewer parameters (8.5 million vs something in the range of 34 million for a lower scoring U-Net model 7 or 8 blocks deep) as well. [Dilated convolutional filters](#dilated) increase the receptive field but require far fewer parameters than a deeper network with standard convolution filters. Since the ResNet <a href=\"#ref1\">[2]</a> is a deep network that uses fewer parameters (than older conv-net architectures), a worthwhile experiment would be to replace the dilated convolutions with ResNet [residual blocks](#residual-blocks).\n",
    "\n",
    "In this exercise we will compare the *U-Net+residual blocks* network with the *U-Net+dilated blocks*. A template for these two modified U-Net architectures is shown below:  \n",
    "\n",
    "\n",
    "![](UNet.png)\n",
    "\n",
    "\n",
    "#### Methodology\n",
    "There are two or three runs -- some with small changes -- for each of the models. We plot the [results](#Results) for all five runs but show the model summary, data prep, and training steps only for the *U-Net+residual blocks* Run 5.  \n",
    "We only train the models for 5-10 epochs to see how the performance numbers in the initial phase compare. It would take roughly three days (50 mins/epoch x 100 epochs on a NVIDIA Tesla K80 GPU platform) to fully train each model and a full set of experiments with multiple runs would be expensive. \n",
    "\n",
    "The models are implemented in Keras with the TensorFlow backend. \n",
    "\n",
    "#### Acknowledgment\n",
    "The use of the following code is acknowledged:\n",
    "  1. [Image processing](https://github.com/petrosgk/Kaggle-Carvana-Image-Masking-Challenge) code from Kaggle user Peter Giannakopoulos\n",
    "  2. [U-Net+dilated conv and loss function](https://github.com/lyakaap/Kaggle-Carvana-3rd-Place-Solution) code from Kaggle user @lyakaap\n",
    "  3. [Resnet50 residual block](https://github.com/fchollet/keras/blob/master/keras/applications/resnet50.py) code from the Keras project\n",
    "\n",
    "\n",
    "#### Organization\n",
    "The rest of the notebook is organized into the following sections:  \n",
    "  1. [Brief description of U-Net, Dilated convolutions and ResNet residual blocks](#Basics) for context.\n",
    "  2. [Model summary](#Model)\n",
    "  3. [Data preparation](#Data)\n",
    "  4. [Initial training results from *U-Net+residual blocks*](#resblock_unet_training)\n",
    "  5. [Compare results from for U-Net+{dilated blocks, residual blocks}](#Results)\n",
    " "
   ]
  },
  {
   "cell_type": "markdown",
   "metadata": {},
   "source": [
    "<a id='Basics'></a>\n",
    "## Basics of U-Net, Dilated Convolutions and Residual Blocks\n",
    "\n",
    "<a id='UNet'></a>\n",
    "#### U-Net\n",
    "The U-Net is an example of a FCN Encoder-Decoder architecture. The Encoder is a standard convolutional neural network which learns features for classification. During this process, downsampling operations reduce the spatial resolution, so an upsampling stage is needed to restore the spatial resolution for semantic segmentation. This is achieved by the Decoder network. The SegNet is an example of an Encoder-Decoder where two VGG16 networks, one a downsampling path and the other an upsampling path, mirror each other. In the U-Net, the downsampling and upsampling path are connected via a convolutional block. This set of convolutional filters lets the network go deeper and preserves the dimensions of the contracted segmentation maps at the same time. Some variants of this block could be the use of dilated convolutions or a bottleneck layer.\n",
    "\n",
    "<a id='dilated'></a>\n",
    "#### Dilated Convolutional Filters\n",
    "Dilated (or atrous) convolutional filters are used in semantic segmentation architectures to increase the receptive field but to do so with far fewer parameters than a deeper network with standard convolution filters would require. To see why, note that a 3x3 filter with a dilation rate of 2 has the same FOV as a 5x5 filter. The 3x3 filter uses 9 parameters whereas the 5x5 filter uses 25. (It should be noted that while the max pooling operation also increases the FOV it is also associated with aggressive downsampling and so is not used in a U-Net once the features are learned.) \n",
    "\n",
    "<a id='residual-blocks'></a>\n",
    "#### Residual Blocks\n",
    "ResNets employ residual blocks to create deep networks. The basic residual block consists of a sequence of convolutional layers chained by a skip connection which ensures that the input signal is backpropagated.  The ResNet50 residual block that we use is made up of three sequential convolutions:\n",
    "  1. 1x1 convolutions (this is the NiN concept: features that are correlated are efficiently combined reducing redundancy and this reduces the number of parameters effectively creating a *bottleneck*)\n",
    "  2. 3x3 convolutions (to get a rich set of new feature combinations; this is computationally expensive but due to the preceding bottleneck step the computational burden is significantly reduced) \n",
    "  3. 1x1 operation (to expand the number of filters usually restoring the output to the original block input)\n",
    "  \n",
    "This is shown in the figure below:\n",
    "\n",
    "![](bottleneck.png)"
   ]
  },
  {
   "cell_type": "markdown",
   "metadata": {},
   "source": [
    "## Import libraries"
   ]
  },
  {
   "cell_type": "code",
   "execution_count": 4,
   "metadata": {
    "ExecuteTime": {
     "end_time": "2017-09-04T16:49:43.585829Z",
     "start_time": "2017-09-04T16:48:25.759269Z"
    },
    "scrolled": true
   },
   "outputs": [
    {
     "name": "stderr",
     "output_type": "stream",
     "text": [
      "Using TensorFlow backend.\n",
      "/usr/lib/python3.6/importlib/_bootstrap.py:219: RuntimeWarning: compiletime version 3.5 of module 'tensorflow.python.framework.fast_tensor_util' does not match runtime version 3.6\n",
      "  return f(*args, **kwds)\n"
     ]
    }
   ],
   "source": [
    "import cv2\n",
    "import numpy as np\n",
    "import pandas as pd\n",
    "import matplotlib.pyplot as plt\n",
    "%matplotlib inline\n",
    "\n",
    "from keras.callbacks import EarlyStopping, ReduceLROnPlateau, ModelCheckpoint, TensorBoard\n",
    "from keras.models import Model\n",
    "from keras.layers import Input, concatenate, Conv2D, MaxPooling2D, Activation, UpSampling2D, BatchNormalization\n",
    "from keras.optimizers import RMSprop\n",
    "from keras.losses import binary_crossentropy\n",
    "import keras.backend as K\n",
    "\n",
    "from sklearn.model_selection import train_test_split\n",
    "import h5py\n",
    "import random\n",
    "\n",
    "import losses\n",
    "import models\n",
    "import augmentation\n",
    "\n",
    "DATAPATH = \"../data\""
   ]
  },
  {
   "cell_type": "markdown",
   "metadata": {},
   "source": [
    "<a id='Model'></a>\n",
    "## Models\n",
    "\n",
    "The *U-Net+dilated blocks (dilated_unet)* model has 8.6 million parameters; the bottleneck has 6 dilated convolutions. The model architecture is shown [here](https://github.com/lyakaap/Kaggle-Carvana-3rd-Place-Solution/blob/master/network.png).\n",
    "\n",
    "The *U-Net+residual blocks (resblock_unet)* uses one convolution + 5 residual blocks. This model uses 3.6 million parameters which is less than half of dilated_unet. The model summary is shown below."
   ]
  },
  {
   "cell_type": "code",
   "execution_count": 5,
   "metadata": {
    "ExecuteTime": {
     "end_time": "2017-09-04T16:49:45.675212Z",
     "start_time": "2017-09-04T16:49:43.642003Z"
    },
    "scrolled": true
   },
   "outputs": [
    {
     "name": "stdout",
     "output_type": "stream",
     "text": [
      "__________________________________________________________________________________________________\n",
      "Layer (type)                    Output Shape         Param #     Connected to                     \n",
      "==================================================================================================\n",
      "input_1 (InputLayer)            (None, 512, 512, 3)  0                                            \n",
      "__________________________________________________________________________________________________\n",
      "enc_conv_1a (Conv2D)            (None, 512, 512, 44) 1232        input_1[0][0]                    \n",
      "__________________________________________________________________________________________________\n",
      "enc_conv_1b (Conv2D)            (None, 512, 512, 44) 17468       enc_conv_1a[0][0]                \n",
      "__________________________________________________________________________________________________\n",
      "max_pooling2d_1 (MaxPooling2D)  (None, 256, 256, 44) 0           enc_conv_1b[0][0]                \n",
      "__________________________________________________________________________________________________\n",
      "enc_conv_2a (Conv2D)            (None, 256, 256, 88) 34936       max_pooling2d_1[0][0]            \n",
      "__________________________________________________________________________________________________\n",
      "enc_conv_2b (Conv2D)            (None, 256, 256, 88) 69784       enc_conv_2a[0][0]                \n",
      "__________________________________________________________________________________________________\n",
      "max_pooling2d_2 (MaxPooling2D)  (None, 128, 128, 88) 0           enc_conv_2b[0][0]                \n",
      "__________________________________________________________________________________________________\n",
      "enc_conv_3a (Conv2D)            (None, 128, 128, 176 139568      max_pooling2d_2[0][0]            \n",
      "__________________________________________________________________________________________________\n",
      "enc_conv_3b (Conv2D)            (None, 128, 128, 176 278960      enc_conv_3a[0][0]                \n",
      "__________________________________________________________________________________________________\n",
      "max_pooling2d_3 (MaxPooling2D)  (None, 64, 64, 176)  0           enc_conv_3b[0][0]                \n",
      "__________________________________________________________________________________________________\n",
      "bottle_conv_1 (Conv2D)          (None, 64, 64, 352)  557920      max_pooling2d_3[0][0]            \n",
      "__________________________________________________________________________________________________\n",
      "bottle_res_2a (Conv2D)          (None, 64, 64, 88)   31064       bottle_conv_1[0][0]              \n",
      "__________________________________________________________________________________________________\n",
      "bottle_bn_2a (BatchNormalizatio (None, 64, 64, 88)   352         bottle_res_2a[0][0]              \n",
      "__________________________________________________________________________________________________\n",
      "bottle_act_2a (Activation)      (None, 64, 64, 88)   0           bottle_bn_2a[0][0]               \n",
      "__________________________________________________________________________________________________\n",
      "bottle_res_2b (Conv2D)          (None, 64, 64, 88)   69784       bottle_act_2a[0][0]              \n",
      "__________________________________________________________________________________________________\n",
      "bottle_bn_2b (BatchNormalizatio (None, 64, 64, 88)   352         bottle_res_2b[0][0]              \n",
      "__________________________________________________________________________________________________\n",
      "bottle_act_2b (Activation)      (None, 64, 64, 88)   0           bottle_bn_2b[0][0]               \n",
      "__________________________________________________________________________________________________\n",
      "bottle_res_2c (Conv2D)          (None, 64, 64, 352)  31328       bottle_act_2b[0][0]              \n",
      "__________________________________________________________________________________________________\n",
      "bottle_bn_2c (BatchNormalizatio (None, 64, 64, 352)  1408        bottle_res_2c[0][0]              \n",
      "__________________________________________________________________________________________________\n",
      "add_1 (Add)                     (None, 64, 64, 352)  0           bottle_bn_2c[0][0]               \n",
      "                                                                 bottle_conv_1[0][0]              \n",
      "__________________________________________________________________________________________________\n",
      "bottle_act_2c (Activation)      (None, 64, 64, 352)  0           add_1[0][0]                      \n",
      "__________________________________________________________________________________________________\n",
      "bottle_res_3a (Conv2D)          (None, 64, 64, 88)   31064       bottle_act_2c[0][0]              \n",
      "__________________________________________________________________________________________________\n",
      "bottle_bn_3a (BatchNormalizatio (None, 64, 64, 88)   352         bottle_res_3a[0][0]              \n",
      "__________________________________________________________________________________________________\n",
      "bottle_act_3a (Activation)      (None, 64, 64, 88)   0           bottle_bn_3a[0][0]               \n",
      "__________________________________________________________________________________________________\n",
      "bottle_res_3b (Conv2D)          (None, 64, 64, 88)   69784       bottle_act_3a[0][0]              \n",
      "__________________________________________________________________________________________________\n",
      "bottle_bn_3b (BatchNormalizatio (None, 64, 64, 88)   352         bottle_res_3b[0][0]              \n",
      "__________________________________________________________________________________________________\n",
      "bottle_act_3b (Activation)      (None, 64, 64, 88)   0           bottle_bn_3b[0][0]               \n",
      "__________________________________________________________________________________________________\n",
      "bottle_res_3c (Conv2D)          (None, 64, 64, 352)  31328       bottle_act_3b[0][0]              \n",
      "__________________________________________________________________________________________________\n",
      "bottle_bn_3c (BatchNormalizatio (None, 64, 64, 352)  1408        bottle_res_3c[0][0]              \n",
      "__________________________________________________________________________________________________\n",
      "add_2 (Add)                     (None, 64, 64, 352)  0           bottle_bn_3c[0][0]               \n",
      "                                                                 bottle_act_2c[0][0]              \n",
      "__________________________________________________________________________________________________\n",
      "bottle_act_3c (Activation)      (None, 64, 64, 352)  0           add_2[0][0]                      \n",
      "__________________________________________________________________________________________________\n",
      "bottle_res_4a (Conv2D)          (None, 64, 64, 88)   31064       bottle_act_3c[0][0]              \n",
      "__________________________________________________________________________________________________\n",
      "bottle_bn_4a (BatchNormalizatio (None, 64, 64, 88)   352         bottle_res_4a[0][0]              \n",
      "__________________________________________________________________________________________________\n",
      "bottle_act_4a (Activation)      (None, 64, 64, 88)   0           bottle_bn_4a[0][0]               \n",
      "__________________________________________________________________________________________________\n",
      "bottle_res_4b (Conv2D)          (None, 64, 64, 88)   69784       bottle_act_4a[0][0]              \n",
      "__________________________________________________________________________________________________\n",
      "bottle_bn_4b (BatchNormalizatio (None, 64, 64, 88)   352         bottle_res_4b[0][0]              \n",
      "__________________________________________________________________________________________________\n",
      "bottle_act_4b (Activation)      (None, 64, 64, 88)   0           bottle_bn_4b[0][0]               \n",
      "__________________________________________________________________________________________________\n",
      "bottle_res_4c (Conv2D)          (None, 64, 64, 352)  31328       bottle_act_4b[0][0]              \n",
      "__________________________________________________________________________________________________\n",
      "bottle_bn_4c (BatchNormalizatio (None, 64, 64, 352)  1408        bottle_res_4c[0][0]              \n",
      "__________________________________________________________________________________________________\n",
      "add_3 (Add)                     (None, 64, 64, 352)  0           bottle_bn_4c[0][0]               \n",
      "                                                                 bottle_act_3c[0][0]              \n",
      "__________________________________________________________________________________________________\n",
      "bottle_act_4c (Activation)      (None, 64, 64, 352)  0           add_3[0][0]                      \n",
      "__________________________________________________________________________________________________\n",
      "bottle_res_5a (Conv2D)          (None, 64, 64, 88)   31064       bottle_act_4c[0][0]              \n",
      "__________________________________________________________________________________________________\n",
      "bottle_bn_5a (BatchNormalizatio (None, 64, 64, 88)   352         bottle_res_5a[0][0]              \n",
      "__________________________________________________________________________________________________\n",
      "bottle_act_5a (Activation)      (None, 64, 64, 88)   0           bottle_bn_5a[0][0]               \n",
      "__________________________________________________________________________________________________\n",
      "bottle_res_5b (Conv2D)          (None, 64, 64, 88)   69784       bottle_act_5a[0][0]              \n",
      "__________________________________________________________________________________________________\n",
      "bottle_bn_5b (BatchNormalizatio (None, 64, 64, 88)   352         bottle_res_5b[0][0]              \n",
      "__________________________________________________________________________________________________\n",
      "bottle_act_5b (Activation)      (None, 64, 64, 88)   0           bottle_bn_5b[0][0]               \n",
      "__________________________________________________________________________________________________\n",
      "bottle_res_5c (Conv2D)          (None, 64, 64, 352)  31328       bottle_act_5b[0][0]              \n",
      "__________________________________________________________________________________________________\n",
      "bottle_bn_5c (BatchNormalizatio (None, 64, 64, 352)  1408        bottle_res_5c[0][0]              \n",
      "__________________________________________________________________________________________________\n",
      "add_4 (Add)                     (None, 64, 64, 352)  0           bottle_bn_5c[0][0]               \n",
      "                                                                 bottle_act_4c[0][0]              \n",
      "__________________________________________________________________________________________________\n",
      "bottle_act_5c (Activation)      (None, 64, 64, 352)  0           add_4[0][0]                      \n",
      "__________________________________________________________________________________________________\n",
      "bottle_res_6a (Conv2D)          (None, 64, 64, 88)   31064       bottle_act_5c[0][0]              \n",
      "__________________________________________________________________________________________________\n",
      "bottle_bn_6a (BatchNormalizatio (None, 64, 64, 88)   352         bottle_res_6a[0][0]              \n",
      "__________________________________________________________________________________________________\n",
      "bottle_act_6a (Activation)      (None, 64, 64, 88)   0           bottle_bn_6a[0][0]               \n",
      "__________________________________________________________________________________________________\n",
      "bottle_res_6b (Conv2D)          (None, 64, 64, 88)   69784       bottle_act_6a[0][0]              \n",
      "__________________________________________________________________________________________________\n",
      "bottle_bn_6b (BatchNormalizatio (None, 64, 64, 88)   352         bottle_res_6b[0][0]              \n",
      "__________________________________________________________________________________________________\n",
      "bottle_act_6b (Activation)      (None, 64, 64, 88)   0           bottle_bn_6b[0][0]               \n",
      "__________________________________________________________________________________________________\n",
      "bottle_res_6c (Conv2D)          (None, 64, 64, 352)  31328       bottle_act_6b[0][0]              \n",
      "__________________________________________________________________________________________________\n",
      "bottle_bn_6c (BatchNormalizatio (None, 64, 64, 352)  1408        bottle_res_6c[0][0]              \n",
      "__________________________________________________________________________________________________\n",
      "add_5 (Add)                     (None, 64, 64, 352)  0           bottle_bn_6c[0][0]               \n",
      "                                                                 bottle_act_5c[0][0]              \n",
      "__________________________________________________________________________________________________\n",
      "bottle_act_6c (Activation)      (None, 64, 64, 352)  0           add_5[0][0]                      \n",
      "__________________________________________________________________________________________________\n",
      "add_6 (Add)                     (None, 64, 64, 352)  0           bottle_act_2c[0][0]              \n",
      "                                                                 bottle_act_3c[0][0]              \n",
      "                                                                 bottle_act_4c[0][0]              \n",
      "                                                                 bottle_act_5c[0][0]              \n",
      "                                                                 bottle_act_6c[0][0]              \n",
      "__________________________________________________________________________________________________\n",
      "up_sampling2d_1 (UpSampling2D)  (None, 128, 128, 352 0           add_6[0][0]                      \n",
      "__________________________________________________________________________________________________\n",
      "dec_conv_3a (Conv2D)            (None, 128, 128, 176 557744      up_sampling2d_1[0][0]            \n",
      "__________________________________________________________________________________________________\n",
      "concatenate_1 (Concatenate)     (None, 128, 128, 352 0           enc_conv_3b[0][0]                \n",
      "                                                                 dec_conv_3a[0][0]                \n",
      "__________________________________________________________________________________________________\n",
      "dec_conv_3b (Conv2D)            (None, 128, 128, 176 557744      concatenate_1[0][0]              \n",
      "__________________________________________________________________________________________________\n",
      "dec_conv_3c (Conv2D)            (None, 128, 128, 176 278960      dec_conv_3b[0][0]                \n",
      "__________________________________________________________________________________________________\n",
      "up_sampling2d_2 (UpSampling2D)  (None, 256, 256, 176 0           dec_conv_3c[0][0]                \n",
      "__________________________________________________________________________________________________\n",
      "dec_conv_2a (Conv2D)            (None, 256, 256, 88) 139480      up_sampling2d_2[0][0]            \n",
      "__________________________________________________________________________________________________\n",
      "concatenate_2 (Concatenate)     (None, 256, 256, 176 0           enc_conv_2b[0][0]                \n",
      "                                                                 dec_conv_2a[0][0]                \n",
      "__________________________________________________________________________________________________\n",
      "dec_conv_2b (Conv2D)            (None, 256, 256, 88) 139480      concatenate_2[0][0]              \n",
      "__________________________________________________________________________________________________\n",
      "dec_conv_2c (Conv2D)            (None, 256, 256, 88) 69784       dec_conv_2b[0][0]                \n",
      "__________________________________________________________________________________________________\n",
      "up_sampling2d_3 (UpSampling2D)  (None, 512, 512, 88) 0           dec_conv_2c[0][0]                \n",
      "__________________________________________________________________________________________________\n",
      "dec_conv_1a (Conv2D)            (None, 512, 512, 44) 34892       up_sampling2d_3[0][0]            \n",
      "__________________________________________________________________________________________________\n",
      "concatenate_3 (Concatenate)     (None, 512, 512, 88) 0           enc_conv_1b[0][0]                \n",
      "                                                                 dec_conv_1a[0][0]                \n",
      "__________________________________________________________________________________________________\n",
      "dec_conv_1b (Conv2D)            (None, 512, 512, 44) 34892       concatenate_3[0][0]              \n",
      "__________________________________________________________________________________________________\n",
      "dec_conv_1c (Conv2D)            (None, 512, 512, 44) 17468       dec_conv_1b[0][0]                \n",
      "__________________________________________________________________________________________________\n",
      "conv2d_1 (Conv2D)               (None, 512, 512, 1)  45          dec_conv_1c[0][0]                \n",
      "==================================================================================================\n",
      "Total params: 3,601,797\n",
      "Trainable params: 3,596,517\n",
      "Non-trainable params: 5,280\n",
      "__________________________________________________________________________________________________\n"
     ]
    }
   ],
   "source": [
    "model = new_models.get_resblock_unet(input_shape=(512,512, 3))\n",
    "model.summary()"
   ]
  },
  {
   "cell_type": "markdown",
   "metadata": {},
   "source": [
    "## Data, Preprocessing, Augmentation <a id='Data'></a>"
   ]
  },
  {
   "cell_type": "markdown",
   "metadata": {},
   "source": [
    "#### Data\n",
    "The training dataset consists of 5088 images. Each car is presented in 16 fixed photo angles. The ground truth training mask images were converted from *.gif* to *.png* format so as to be compatible with the *OpenCV* library. \n",
    "\n",
    "The Carvana dataset can be found [here](https://www.kaggle.com/c/carvana-image-masking-challenge/data). The training images and ground truth masks are in the *train* and *train_masks* folders respectively. The test data was not used."
   ]
  },
  {
   "cell_type": "code",
   "execution_count": 5,
   "metadata": {
    "ExecuteTime": {
     "end_time": "2017-09-04T16:50:34.627786Z",
     "start_time": "2017-09-04T16:50:33.936807Z"
    },
    "collapsed": true
   },
   "outputs": [],
   "source": [
    "df_train = pd.read_csv(DATAPATH+'/train_masks.csv')"
   ]
  },
  {
   "cell_type": "code",
   "execution_count": 6,
   "metadata": {
    "ExecuteTime": {
     "end_time": "2017-09-04T16:50:34.647571Z",
     "start_time": "2017-09-04T16:50:34.629747Z"
    },
    "collapsed": true
   },
   "outputs": [],
   "source": [
    "df_train = df_train.iloc[2:,:]"
   ]
  },
  {
   "cell_type": "code",
   "execution_count": 8,
   "metadata": {
    "ExecuteTime": {
     "end_time": "2017-09-04T16:50:35.817191Z",
     "start_time": "2017-09-04T16:50:35.810931Z"
    },
    "collapsed": true
   },
   "outputs": [],
   "source": [
    "ids_train = df_train['img'].map(lambda s: s.split('.')[0])"
   ]
  },
  {
   "cell_type": "code",
   "execution_count": 9,
   "metadata": {
    "ExecuteTime": {
     "end_time": "2017-09-04T16:50:36.231117Z",
     "start_time": "2017-09-04T16:50:36.225000Z"
    },
    "collapsed": true
   },
   "outputs": [],
   "source": [
    "ids_train_split, ids_valid_split = train_test_split(ids_train, test_size=0.2, random_state=42)"
   ]
  },
  {
   "cell_type": "markdown",
   "metadata": {},
   "source": [
    "#### Preprocessing  -- rescaling (input and mask data)\n",
    "The original image resolution of 1918 x 1280 was downsampled to 512 x 512 using the OpenCV library functions."
   ]
  },
  {
   "cell_type": "code",
   "execution_count": 13,
   "metadata": {
    "ExecuteTime": {
     "end_time": "2017-09-04T16:50:33.348138Z",
     "start_time": "2017-09-04T16:50:33.344715Z"
    },
    "collapsed": true
   },
   "outputs": [],
   "source": [
    "input_width = 512\n",
    "input_height = 512\n",
    "max_epochs = 10\n",
    "orig_width = 1918\n",
    "orig_height= 1280\n",
    "threshold  = 0.5"
   ]
  },
  {
   "cell_type": "code",
   "execution_count": 10,
   "metadata": {
    "ExecuteTime": {
     "end_time": "2017-09-04T16:54:47.383436Z",
     "start_time": "2017-09-04T16:51:01.386483Z"
    },
    "collapsed": true
   },
   "outputs": [],
   "source": [
    "all_imgs  = {}\n",
    "all_masks = {}\n",
    "\n",
    "for id in ids_train:\n",
    "    img  = cv2.imread(DATAPATH+'/train/{}.jpg'.format(id))\n",
    "    img  = cv2.resize(img, (input_width, input_height))\n",
    "    mask = cv2.imread(DATAPATH+'/train_masks_png/{}_mask.png'.format(id), cv2.IMREAD_GRAYSCALE)\n",
    "    mask = cv2.resize(mask, (input_width, input_height))\n",
    "    all_imgs[id]  = img\n",
    "    all_masks[id] = mask"
   ]
  },
  {
   "cell_type": "markdown",
   "metadata": {},
   "source": [
    "#### Augmentation\n",
    "\n",
    "The following transformations using the *OpenCV* library were made:\n",
    "* Hue, Saturation, Value using randomHueSaturationValue\n",
    "* Shift, Scale, Rotate using randomShiftScaleRotate\n",
    "* Horizontal flips using randomHorizontalFlip"
   ]
  },
  {
   "cell_type": "markdown",
   "metadata": {},
   "source": [
    "## Training\n",
    "<a id='resblock_unet_training'></a>"
   ]
  },
  {
   "cell_type": "code",
   "execution_count": 12,
   "metadata": {
    "ExecuteTime": {
     "end_time": "2017-09-04T16:55:10.381921Z",
     "start_time": "2017-09-04T16:55:10.362537Z"
    },
    "collapsed": true
   },
   "outputs": [],
   "source": [
    "def train_generator(train_batch_size):\n",
    "    while True:\n",
    "        this_ids_train_split = random.sample(list(ids_train_split), len(ids_train_split))\n",
    "        for start in range(0, len(ids_train_split), train_batch_size):\n",
    "            x_batch = []\n",
    "            y_batch = []\n",
    "            end = min(start + train_batch_size, len(ids_train_split))\n",
    "            ids_train_batch = this_ids_train_split[start:end]\n",
    "            for id in ids_train_batch:\n",
    "                img  = all_imgs[id]\n",
    "                mask = all_masks[id]\n",
    "                img = augmentation.randomHueSaturationValue(img,\n",
    "                                               hue_shift_limit=(-50, 50),\n",
    "                                               sat_shift_limit=(-5, 5),\n",
    "                                               val_shift_limit=(-15, 15))\n",
    "                img, mask = augmentation.randomShiftScaleRotate(img, mask,\n",
    "                                                   shift_limit=(-0.0625, 0.0625),\n",
    "                                                   scale_limit=(-0.1, 0.1),\n",
    "                                                   rotate_limit=(-0, 0))\n",
    "                img, mask = augmentation.randomHorizontalFlip(img, mask)\n",
    "                mask = np.expand_dims(mask, axis=2)\n",
    "                x_batch.append(img)\n",
    "                y_batch.append(mask)\n",
    "            x_batch = np.array(x_batch, np.float32) / 255\n",
    "            y_batch = np.array(y_batch, np.float32) / 255\n",
    "            yield x_batch, y_batch\n"
   ]
  },
  {
   "cell_type": "code",
   "execution_count": 13,
   "metadata": {
    "ExecuteTime": {
     "end_time": "2017-09-04T16:55:11.232951Z",
     "start_time": "2017-09-04T16:55:11.222686Z"
    },
    "collapsed": true
   },
   "outputs": [],
   "source": [
    "def valid_generator(val_batch_size):\n",
    "    while True:\n",
    "        for start in range(0, len(ids_valid_split), val_batch_size):\n",
    "            x_batch = []\n",
    "            y_batch = []\n",
    "            end = min(start + val_batch_size, len(ids_valid_split))\n",
    "            ids_valid_batch = ids_valid_split[start:end]\n",
    "            for id in ids_valid_batch.values:\n",
    "                img  = all_imgs[id]\n",
    "                mask = all_masks[id]\n",
    "                mask = np.expand_dims(mask, axis=2)\n",
    "                x_batch.append(img)\n",
    "                y_batch.append(mask)\n",
    "            x_batch = np.array(x_batch, np.float32) / 255\n",
    "            y_batch = np.array(y_batch, np.float32) / 255\n",
    "            yield x_batch, y_batch\n"
   ]
  },
  {
   "cell_type": "code",
   "execution_count": 14,
   "metadata": {
    "ExecuteTime": {
     "end_time": "2017-09-04T16:55:12.717822Z",
     "start_time": "2017-09-04T16:55:12.715003Z"
    },
    "collapsed": true
   },
   "outputs": [],
   "source": [
    "train_batch_size = 6\n",
    "val_batch_size   = 16"
   ]
  },
  {
   "cell_type": "code",
   "execution_count": 15,
   "metadata": {
    "ExecuteTime": {
     "end_time": "2017-08-24T19:10:46.231022Z",
     "start_time": "2017-08-23T18:00:39.037950Z"
    },
    "scrolled": true
   },
   "outputs": [
    {
     "name": "stdout",
     "output_type": "stream",
     "text": [
      "Epoch 1/10\n",
      " - 2391s - loss: 0.1446 - dice_coef: 0.9391 - val_loss: 0.7907 - val_dice_coef: 0.7309\n",
      "Epoch 2/10\n",
      " - 2235s - loss: 0.0451 - dice_coef: 0.9815 - val_loss: 0.0524 - val_dice_coef: 0.9791\n",
      "Epoch 3/10\n",
      " - 2235s - loss: 0.0358 - dice_coef: 0.9857 - val_loss: 0.0646 - val_dice_coef: 0.9750\n",
      "Epoch 4/10\n",
      " - 2231s - loss: 0.0282 - dice_coef: 0.9885 - val_loss: 0.0279 - val_dice_coef: 0.9886\n",
      "Epoch 5/10\n",
      " - 2233s - loss: 0.0246 - dice_coef: 0.9899 - val_loss: 1.9311 - val_dice_coef: 0.6366\n",
      "Epoch 6/10\n",
      " - 2235s - loss: 0.0223 - dice_coef: 0.9909 - val_loss: 0.5545 - val_dice_coef: 0.8320\n",
      "Epoch 7/10\n",
      " - 2235s - loss: 0.0194 - dice_coef: 0.9920 - val_loss: 0.0254 - val_dice_coef: 0.9900\n",
      "Epoch 8/10\n",
      " - 2221s - loss: 0.0186 - dice_coef: 0.9924 - val_loss: 0.0180 - val_dice_coef: 0.9925\n",
      "Epoch 9/10\n",
      " - 2213s - loss: 0.0168 - dice_coef: 0.9930 - val_loss: 0.0166 - val_dice_coef: 0.9932\n",
      "Epoch 10/10\n",
      " - 2214s - loss: 0.0160 - dice_coef: 0.9933 - val_loss: 0.1499 - val_dice_coef: 0.9600\n"
     ]
    }
   ],
   "source": [
    "callbacks = [ReduceLROnPlateau(monitor='val_dice_coef',\n",
    "                               factor=0.2,\n",
    "                               patience=3,\n",
    "                               verbose=1,\n",
    "                               epsilon=1e-4,\n",
    "                               mode='max'),\n",
    "             ModelCheckpoint(monitor='val_dice_coef',\n",
    "                             filepath='../weights/best_weights_resblock_1.hdf5',\n",
    "                             save_best_only=True,\n",
    "                             save_weights_only=True,\n",
    "                             mode='max')]\n",
    "\n",
    "history = model.fit_generator(generator=train_generator(train_batch_size),\n",
    "                    steps_per_epoch=np.ceil(float(len(ids_train_split)) / float(train_batch_size)),\n",
    "                    epochs=max_epochs,\n",
    "                    verbose=2,\n",
    "                    callbacks=callbacks,\n",
    "                    validation_data=valid_generator(val_batch_size),\n",
    "                    validation_steps=np.ceil(float(len(ids_valid_split)) / float(val_batch_size)))\n"
   ]
  },
  {
   "cell_type": "markdown",
   "metadata": {},
   "source": [
    "## Results  <a id='Results'></a>"
   ]
  },
  {
   "cell_type": "markdown",
   "metadata": {},
   "source": [
    "There are five runs:   \n",
    "- *U-Net+dilated blocks*: Runs 1, 2   \n",
    "- *U-Net+residual blocks*: Runs 3, 4, 5  \n",
    "\n",
    "The model summary, data prep and training run were shown for the *U-Net+residual blocks* Run 5 above. Below we plot the following results for the five runs:   \n",
    "- dice coefficient   \n",
    "- training loss "
   ]
  },
  {
   "cell_type": "code",
   "execution_count": 20,
   "metadata": {},
   "outputs": [
    {
     "data": {
      "image/png": "[encoded data removed]",
      "text/plain": [
       "<matplotlib.figure.Figure at 0x10c22e510>"
      ]
     },
     "metadata": {},
     "output_type": "display_data"
    }
   ],
   "source": [
    "# aggregated run data from history.history for 5 runs\n",
    "d1_dice = [0.9191, 0.9808, 0.9873]\n",
    "d2_dice = [0.9027, 0.9796, 0.9864, 0.9898, 0.9914]\n",
    "r3_dice = [0.9465, 0.9827, 0.9876, 0.9896]\n",
    "r4_dice = [0.9425, 0.9827, 0.9874, 0.9896, 0.9907]\n",
    "r5_dice = [0.9391, 0.9815, 0.9857, 0.9885, 0.9899, \n",
    "           0.9909, 0.9920, 0.9924, 0.9930, 0.9933]\n",
    "dice_list = [d1_dice, d2_dice, r3_dice, r4_dice, r5_dice]\n",
    "\n",
    "d1_loss = [0.1768, 0.0474, 0.0312]\n",
    "d2_loss = [0.2062, 0.0499, 0.0348, 0.0249, 0.0213]\n",
    "r3_loss = [0.1255,0.0424,0.0302,0.0253,0.02265]\n",
    "r4_loss = [0.1368, 0.0423, 0.0309, 0.0252, 0.0225]\n",
    "r5_loss = [0.1446,0.0451, 0.0358, 0.0282, 0.0246,\n",
    "           0.0223,0.0194,0.0186,0.0168,0.0159]\n",
    "loss_list = [d1_loss, d2_loss, r3_loss, r4_loss, r5_loss]\n",
    "\n",
    "# plot\n",
    "fig, ax = plt.subplots(1, 2, sharex=True, figsize=(11,5))\n",
    "plt.style.use('ggplot')\n",
    "\n",
    "colors = ['pink', 'red', 'lightgreen','limegreen', 'blue']\n",
    "linestyles =['--',':','-.',':', '-'] \n",
    "legend_list = ['dilated_unet run 1', 'run 2', 'resblock_unet run 3', 'run 4', 'run 5']\n",
    "\n",
    "\n",
    "for i, color, linestyle in zip(range(5), colors, linestyles):\n",
    "    ax[0].plot(loss_list[i], color = color, linestyle=linestyle)\n",
    "    ax[1].plot(dice_list[i], color = color, linestyle=linestyle)\n",
    "\n",
    "ax[0].set_title('Model training loss')\n",
    "ax[1].set_title('Dice coefficient')\n",
    "\n",
    "ax[0].set_ylabel('loss')\n",
    "ax[1].set_ylabel('dice coefficient')\n",
    "plt.xticks(range(10), range(1,11))\n",
    "fig.text(0.5, 0.04, 'epochs', ha='center', va='center')\n",
    "plt.legend(legend_list, bbox_to_anchor=(1.05, 0), loc='lower left');"
   ]
  },
  {
   "cell_type": "markdown",
   "metadata": {},
   "source": [
    "## Discussion\n",
    "\n",
    "The initial numbers (from 10 epochs for Run 5, 5 epochs for the other runs) for both the *U-Net+residual blocks* and the *U-Net+dilated blocks* are comparable and both are very high in terms of the dice coefficients. The U-Net is a good baseline for binary segmentation but these start values were much higher than for a generic U-Net without the modified bottleneck. \n",
    "There is some indication that the *U-Net+dilated blocks* is more stable but we would need to train longer and tune each of these runs to assess that.  \n",
    "\n",
    "The U-Nets were trained from scratch using an NVIDIA Tesla K80 GPU computing platform. It took around 40-50 mins per epoch.\n",
    "The *U-Net+dilated blocks* with 8.6 million parameters took longer than the *U-Net+residual blocks*  with 3.5 million parameters. The run times are listed below.\n",
    "\n",
    "*U-Net+dilted blocks*\n",
    "* 3300 secs for the first 5 epochs on two runs\n",
    "               \n",
    "*U-Net+residual blocks* \n",
    "* 2700 secs for the first 5 epochs on two runs\n",
    "* 2250 secs for first 10 epochs (the experiments were run a month apart during which time the code was rewritten and there is also the possibility the computing resources on the Crestle platform changed)\n",
    "\n",
    "The *U-Net+residual blocks* seems like it could be a time-efficient replacement for the *U-Net+dilated blocks*. "
   ]
  },
  {
   "cell_type": "markdown",
   "metadata": {},
   "source": [
    "## References and Further Reading\n",
    "\n",
    "<a name=\"ref1\"></a>[1] [Olaf Ronneberger, Philipp Fischer, Thomas Brox. \"U-Net: Convolutional Networks for Biomedical Image Segmentation.\" arXiv:1505.04597v1 [cs.CV]](https://arxiv.org/pdf/1505.04597.pdf)\n",
    "\n",
    "<a name=\"ref2\"></a>[2] [He, Kaiming, et al. \"Deep Residual Learning for Image Recognition.\" arXiv:1512.03385v1 [cs.CV]](https://arxiv.org/pdf/1512.03385.pdf)\n",
    "\n",
    "[3] [Pröve, Paul-Louis. \"An Introduction to different Types of Convolutions in Deep Learning.\" Towards Data Science/Medium, Jul 22 2017](https://towardsdatascience.com/types-of-convolutions-in-deep-learning-717013397f4d)\n",
    "\n",
    "[4] [Culurciello, Eugenio. \"Neural Network Architectures\" Towards Data Science/Medium, Mar 23 2017](https://towardsdatascience.com/neural-network-architectures-156e5bad51ba)"
   ]
  },
  {
   "cell_type": "markdown",
   "metadata": {},
   "source": [
    "**\n",
    "Author:  Meena Mani      \n",
    "Email:   meenas.mailbag@gmail.com      \n",
    "Twitter: @meena_uvaca    \n",
    "**"
   ]
  }
 ],
 "metadata": {
  "anaconda-cloud": {},
  "kernelspec": {
   "display_name": "Python [default]",
   "language": "python",
   "name": "python2"
  },
  "language_info": {
   "codemirror_mode": {
    "name": "ipython",
    "version": 2
   },
   "file_extension": ".py",
   "mimetype": "text/x-python",
   "name": "python",
   "nbconvert_exporter": "python",
   "pygments_lexer": "ipython2",
   "version": "2.7.13"
  },
  "toc": {
   "colors": {
    "hover_highlight": "#DAA520",
    "navigate_num": "#000000",
    "navigate_text": "#333333",
    "running_highlight": "#FF0000",
    "selected_highlight": "#FFD700",
    "sidebar_border": "#EEEEEE",
    "wrapper_background": "#FFFFFF"
   },
   "moveMenuLeft": true,
   "nav_menu": {
    "height": "48px",
    "width": "252px"
   },
   "navigate_menu": true,
   "number_sections": true,
   "sideBar": true,
   "threshold": 4,
   "toc_cell": true,
   "toc_section_display": "block",
   "toc_window_display": false,
   "widenNotebook": false
  }
 },
 "nbformat": 4,
 "nbformat_minor": 2
}
