{
 "cells": [
  {
   "cell_type": "markdown",
   "metadata": {},
   "source": [
    "## LinkNet: A Keras implementation for the Kaggle Carvana Image Masking Challenge \n",
    "\n",
    "\n",
    "Date created: Dec 20, 2017   \n",
    "Last modified: Jan 20, 2018  \n",
    "Tags: LinkNet, Keras, semantic segmentation\n"
   ]
  },
  {
   "cell_type": "markdown",
   "metadata": {},
   "source": [
    "The LinkNet <a href=\"#ref1\">[1]</a> model has been [implemented in pyTorch](https://github.com/e-lab/LinkNet). Here I have implemented a Keras version of the LinkNet. This is a sample run using data from the [Carvana Image Masking Challenge](https://www.kaggle.com/c/carvana-image-masking-challenge) on Kaggle. The top winners in this challenge had great success with both the U-Net and LinkNet models."
   ]
  },
  {
   "cell_type": "markdown",
   "metadata": {},
   "source": [
    "## Import libraries"
   ]
  },
  {
   "cell_type": "code",
   "execution_count": 29,
   "metadata": {
    "ExecuteTime": {
     "end_time": "2017-09-04T16:49:43.585829Z",
     "start_time": "2017-09-04T16:48:25.759269Z"
    },
    "collapsed": true,
    "scrolled": true
   },
   "outputs": [],
   "source": [
    "import cv2\n",
    "import numpy as np\n",
    "import pandas as pd\n",
    "import matplotlib.pyplot as plt\n",
    "%matplotlib inline\n",
    "\n",
    "from keras.models import Model\n",
    "from keras.layers import Conv2D, Conv2DTranspose, MaxPooling2D\n",
    "from keras.layers import Input, Activation, BatchNormalization, concatenate\n",
    "from keras.callbacks import EarlyStopping, ReduceLROnPlateau, ModelCheckpoint, TensorBoard\n",
    "from keras.optimizers import RMSprop\n",
    "from keras.losses import binary_crossentropy\n",
    "import keras.backend as K\n",
    "\n",
    "from sklearn.model_selection import train_test_split\n",
    "import h5py\n",
    "import random\n",
    "\n",
    "import linknet\n",
    "import losses\n",
    "import augmentation\n",
    "\n",
    "DATAPATH = \"../data\""
   ]
  },
  {
   "cell_type": "markdown",
   "metadata": {},
   "source": [
    "## LinkNet model\n",
    "\n",
    "\n",
    "The LinkNet is a symmetric encoder-decoder architecture. The four encoder/decoder blocks are connected sequentially as well as with skip/bypass connections which link an encoder with the corresponding decoder layer.\n",
    "\n",
    "**The Encoder block** uses [ResNet-18 blocks](#ref2). Each block has four 3x3 conv layers. The first of these convolutions is a *strided convolution* that downsamples the input by a factor of two. Following each convolution, *Batchnorm-ReLU* operations are performed.\n",
    "\n",
    "**The Decoder block** is lightweight. It uses 1x1 convolutions to reduce the number of parameters. A *full convoluton* (Conv2DTranspose in Keras) is used for the upsampling.\n",
    "\n",
    "The details of the network architecture are given in Section III of the [LinkNet paper](#ref1)."
   ]
  },
  {
   "cell_type": "code",
   "execution_count": 2,
   "metadata": {
    "ExecuteTime": {
     "end_time": "2017-09-04T16:49:45.675212Z",
     "start_time": "2017-09-04T16:49:43.642003Z"
    },
    "scrolled": true
   },
   "outputs": [
    {
     "name": "stdout",
     "output_type": "stream",
     "text": [
      "__________________________________________________________________________________________________\n",
      "Layer (type)                    Output Shape         Param #     Connected to                     \n",
      "==================================================================================================\n",
      "input_1 (InputLayer)            (None, 512, 512, 3)  0                                            \n",
      "__________________________________________________________________________________________________\n",
      "initial__conv (Conv2D)          (None, 256, 256, 64) 9472        input_1[0][0]                    \n",
      "__________________________________________________________________________________________________\n",
      "initial__bn (BatchNormalization (None, 256, 256, 64) 256         initial__conv[0][0]              \n",
      "__________________________________________________________________________________________________\n",
      "initial_act (Activation)        (None, 256, 256, 64) 0           initial__bn[0][0]                \n",
      "__________________________________________________________________________________________________\n",
      "max_pooling2d_1 (MaxPooling2D)  (None, 128, 128, 64) 0           initial_act[0][0]                \n",
      "__________________________________________________________________________________________________\n",
      "encoder_1_1a_conv (Conv2D)      (None, 64, 64, 64)   36928       max_pooling2d_1[0][0]            \n",
      "__________________________________________________________________________________________________\n",
      "encoder_1_1a_bn (BatchNormaliza (None, 64, 64, 64)   256         encoder_1_1a_conv[0][0]          \n",
      "__________________________________________________________________________________________________\n",
      "encoder_1_1a_act (Activation)   (None, 64, 64, 64)   0           encoder_1_1a_bn[0][0]            \n",
      "__________________________________________________________________________________________________\n",
      "encoder_1_1b_conv (Conv2D)      (None, 64, 64, 64)   36928       encoder_1_1a_act[0][0]           \n",
      "__________________________________________________________________________________________________\n",
      "encoder_1_1b_shortcut (Conv2D)  (None, 64, 64, 64)   4160        max_pooling2d_1[0][0]            \n",
      "__________________________________________________________________________________________________\n",
      "encoder_1_1b_bn (BatchNormaliza (None, 64, 64, 64)   256         encoder_1_1b_conv[0][0]          \n",
      "__________________________________________________________________________________________________\n",
      "add_1 (Add)                     (None, 64, 64, 64)   0           encoder_1_1b_shortcut[0][0]      \n",
      "                                                                 encoder_1_1b_bn[0][0]            \n",
      "__________________________________________________________________________________________________\n",
      "encoder_1_1b_act (Activation)   (None, 64, 64, 64)   0           add_1[0][0]                      \n",
      "__________________________________________________________________________________________________\n",
      "encoder_1_2a_conv (Conv2D)      (None, 64, 64, 64)   36928       encoder_1_1b_act[0][0]           \n",
      "__________________________________________________________________________________________________\n",
      "encoder_1_2a_bn (BatchNormaliza (None, 64, 64, 64)   256         encoder_1_2a_conv[0][0]          \n",
      "__________________________________________________________________________________________________\n",
      "encoder_1_2a_act (Activation)   (None, 64, 64, 64)   0           encoder_1_2a_bn[0][0]            \n",
      "__________________________________________________________________________________________________\n",
      "encoder_1_2b_conv (Conv2D)      (None, 64, 64, 64)   36928       encoder_1_2a_act[0][0]           \n",
      "__________________________________________________________________________________________________\n",
      "encoder_1_2b_bn (BatchNormaliza (None, 64, 64, 64)   256         encoder_1_2b_conv[0][0]          \n",
      "__________________________________________________________________________________________________\n",
      "add_2 (Add)                     (None, 64, 64, 64)   0           encoder_1_1b_act[0][0]           \n",
      "                                                                 encoder_1_2b_bn[0][0]            \n",
      "__________________________________________________________________________________________________\n",
      "encoder_1_2b_act (Activation)   (None, 64, 64, 64)   0           add_2[0][0]                      \n",
      "__________________________________________________________________________________________________\n",
      "encoder_2_1a_conv (Conv2D)      (None, 32, 32, 128)  73856       encoder_1_2b_act[0][0]           \n",
      "__________________________________________________________________________________________________\n",
      "encoder_2_1a_bn (BatchNormaliza (None, 32, 32, 128)  512         encoder_2_1a_conv[0][0]          \n",
      "__________________________________________________________________________________________________\n",
      "encoder_2_1a_act (Activation)   (None, 32, 32, 128)  0           encoder_2_1a_bn[0][0]            \n",
      "__________________________________________________________________________________________________\n",
      "encoder_2_1b_conv (Conv2D)      (None, 32, 32, 128)  147584      encoder_2_1a_act[0][0]           \n",
      "__________________________________________________________________________________________________\n",
      "encoder_2_1b_shortcut (Conv2D)  (None, 32, 32, 128)  8320        encoder_1_2b_act[0][0]           \n",
      "__________________________________________________________________________________________________\n",
      "encoder_2_1b_bn (BatchNormaliza (None, 32, 32, 128)  512         encoder_2_1b_conv[0][0]          \n",
      "__________________________________________________________________________________________________\n",
      "add_3 (Add)                     (None, 32, 32, 128)  0           encoder_2_1b_shortcut[0][0]      \n",
      "                                                                 encoder_2_1b_bn[0][0]            \n",
      "__________________________________________________________________________________________________\n",
      "encoder_2_1b_act (Activation)   (None, 32, 32, 128)  0           add_3[0][0]                      \n",
      "__________________________________________________________________________________________________\n",
      "encoder_2_2a_conv (Conv2D)      (None, 32, 32, 128)  147584      encoder_2_1b_act[0][0]           \n",
      "__________________________________________________________________________________________________\n",
      "encoder_2_2a_bn (BatchNormaliza (None, 32, 32, 128)  512         encoder_2_2a_conv[0][0]          \n",
      "__________________________________________________________________________________________________\n",
      "encoder_2_2a_act (Activation)   (None, 32, 32, 128)  0           encoder_2_2a_bn[0][0]            \n",
      "__________________________________________________________________________________________________\n",
      "encoder_2_2b_conv (Conv2D)      (None, 32, 32, 128)  147584      encoder_2_2a_act[0][0]           \n",
      "__________________________________________________________________________________________________\n",
      "encoder_2_2b_bn (BatchNormaliza (None, 32, 32, 128)  512         encoder_2_2b_conv[0][0]          \n",
      "__________________________________________________________________________________________________\n",
      "add_4 (Add)                     (None, 32, 32, 128)  0           encoder_2_1b_act[0][0]           \n",
      "                                                                 encoder_2_2b_bn[0][0]            \n",
      "__________________________________________________________________________________________________\n",
      "encoder_2_2b_act (Activation)   (None, 32, 32, 128)  0           add_4[0][0]                      \n",
      "__________________________________________________________________________________________________\n",
      "encoder_3_1a_conv (Conv2D)      (None, 16, 16, 256)  295168      encoder_2_2b_act[0][0]           \n",
      "__________________________________________________________________________________________________\n",
      "encoder_3_1a_bn (BatchNormaliza (None, 16, 16, 256)  1024        encoder_3_1a_conv[0][0]          \n",
      "__________________________________________________________________________________________________\n",
      "encoder_3_1a_act (Activation)   (None, 16, 16, 256)  0           encoder_3_1a_bn[0][0]            \n",
      "__________________________________________________________________________________________________\n",
      "encoder_3_1b_conv (Conv2D)      (None, 16, 16, 256)  590080      encoder_3_1a_act[0][0]           \n",
      "__________________________________________________________________________________________________\n",
      "encoder_3_1b_shortcut (Conv2D)  (None, 16, 16, 256)  33024       encoder_2_2b_act[0][0]           \n",
      "__________________________________________________________________________________________________\n",
      "encoder_3_1b_bn (BatchNormaliza (None, 16, 16, 256)  1024        encoder_3_1b_conv[0][0]          \n",
      "__________________________________________________________________________________________________\n",
      "add_5 (Add)                     (None, 16, 16, 256)  0           encoder_3_1b_shortcut[0][0]      \n",
      "                                                                 encoder_3_1b_bn[0][0]            \n",
      "__________________________________________________________________________________________________\n",
      "encoder_3_1b_act (Activation)   (None, 16, 16, 256)  0           add_5[0][0]                      \n",
      "__________________________________________________________________________________________________\n",
      "encoder_3_2a_conv (Conv2D)      (None, 16, 16, 256)  590080      encoder_3_1b_act[0][0]           \n",
      "__________________________________________________________________________________________________\n",
      "encoder_3_2a_bn (BatchNormaliza (None, 16, 16, 256)  1024        encoder_3_2a_conv[0][0]          \n",
      "__________________________________________________________________________________________________\n",
      "encoder_3_2a_act (Activation)   (None, 16, 16, 256)  0           encoder_3_2a_bn[0][0]            \n",
      "__________________________________________________________________________________________________\n",
      "encoder_3_2b_conv (Conv2D)      (None, 16, 16, 256)  590080      encoder_3_2a_act[0][0]           \n",
      "__________________________________________________________________________________________________\n",
      "encoder_3_2b_bn (BatchNormaliza (None, 16, 16, 256)  1024        encoder_3_2b_conv[0][0]          \n",
      "__________________________________________________________________________________________________\n",
      "add_6 (Add)                     (None, 16, 16, 256)  0           encoder_3_1b_act[0][0]           \n",
      "                                                                 encoder_3_2b_bn[0][0]            \n",
      "__________________________________________________________________________________________________\n",
      "encoder_3_2b_act (Activation)   (None, 16, 16, 256)  0           add_6[0][0]                      \n",
      "__________________________________________________________________________________________________\n",
      "encoder_4_1a_conv (Conv2D)      (None, 8, 8, 512)    1180160     encoder_3_2b_act[0][0]           \n",
      "__________________________________________________________________________________________________\n",
      "encoder_4_1a_bn (BatchNormaliza (None, 8, 8, 512)    2048        encoder_4_1a_conv[0][0]          \n",
      "__________________________________________________________________________________________________\n",
      "encoder_4_1a_act (Activation)   (None, 8, 8, 512)    0           encoder_4_1a_bn[0][0]            \n",
      "__________________________________________________________________________________________________\n",
      "encoder_4_1b_conv (Conv2D)      (None, 8, 8, 512)    2359808     encoder_4_1a_act[0][0]           \n",
      "__________________________________________________________________________________________________\n",
      "encoder_4_1b_shortcut (Conv2D)  (None, 8, 8, 512)    131584      encoder_3_2b_act[0][0]           \n",
      "__________________________________________________________________________________________________\n",
      "encoder_4_1b_bn (BatchNormaliza (None, 8, 8, 512)    2048        encoder_4_1b_conv[0][0]          \n",
      "__________________________________________________________________________________________________\n",
      "add_7 (Add)                     (None, 8, 8, 512)    0           encoder_4_1b_shortcut[0][0]      \n",
      "                                                                 encoder_4_1b_bn[0][0]            \n",
      "__________________________________________________________________________________________________\n",
      "encoder_4_1b_act (Activation)   (None, 8, 8, 512)    0           add_7[0][0]                      \n",
      "__________________________________________________________________________________________________\n",
      "encoder_4_2a_conv (Conv2D)      (None, 8, 8, 512)    2359808     encoder_4_1b_act[0][0]           \n",
      "__________________________________________________________________________________________________\n",
      "encoder_4_2a_bn (BatchNormaliza (None, 8, 8, 512)    2048        encoder_4_2a_conv[0][0]          \n",
      "__________________________________________________________________________________________________\n",
      "encoder_4_2a_act (Activation)   (None, 8, 8, 512)    0           encoder_4_2a_bn[0][0]            \n",
      "__________________________________________________________________________________________________\n",
      "encoder_4_2b_conv (Conv2D)      (None, 8, 8, 512)    2359808     encoder_4_2a_act[0][0]           \n",
      "__________________________________________________________________________________________________\n",
      "encoder_4_2b_bn (BatchNormaliza (None, 8, 8, 512)    2048        encoder_4_2b_conv[0][0]          \n",
      "__________________________________________________________________________________________________\n",
      "add_8 (Add)                     (None, 8, 8, 512)    0           encoder_4_1b_act[0][0]           \n",
      "                                                                 encoder_4_2b_bn[0][0]            \n",
      "__________________________________________________________________________________________________\n",
      "encoder_4_2b_act (Activation)   (None, 8, 8, 512)    0           add_8[0][0]                      \n",
      "__________________________________________________________________________________________________\n",
      "decoder_4_1a_conv (Conv2D)      (None, 8, 8, 128)    65664       encoder_4_2b_act[0][0]           \n",
      "__________________________________________________________________________________________________\n",
      "decoder_4_1a_bn (BatchNormaliza (None, 8, 8, 128)    512         decoder_4_1a_conv[0][0]          \n",
      "__________________________________________________________________________________________________\n",
      "decoder_4_1a_act (Activation)   (None, 8, 8, 128)    0           decoder_4_1a_bn[0][0]            \n",
      "__________________________________________________________________________________________________\n",
      "decoder_4_1b_fullconv (Conv2DTr (None, 16, 16, 128)  147584      decoder_4_1a_act[0][0]           \n",
      "__________________________________________________________________________________________________\n",
      "decoder_4_1b_bn (BatchNormaliza (None, 16, 16, 128)  512         decoder_4_1b_fullconv[0][0]      \n",
      "__________________________________________________________________________________________________\n",
      "decoder_4_1b_act (Activation)   (None, 16, 16, 128)  0           decoder_4_1b_bn[0][0]            \n",
      "__________________________________________________________________________________________________\n",
      "decoder_4_1c_conv (Conv2D)      (None, 16, 16, 256)  33024       decoder_4_1b_act[0][0]           \n",
      "__________________________________________________________________________________________________\n",
      "decoder_4_1c_bn (BatchNormaliza (None, 16, 16, 256)  1024        decoder_4_1c_conv[0][0]          \n",
      "__________________________________________________________________________________________________\n",
      "decoder_4_1c_act (Activation)   (None, 16, 16, 256)  0           decoder_4_1c_bn[0][0]            \n",
      "__________________________________________________________________________________________________\n",
      "concatenate_1 (Concatenate)     (None, 16, 16, 512)  0           decoder_4_1c_act[0][0]           \n",
      "                                                                 encoder_3_2b_act[0][0]           \n",
      "__________________________________________________________________________________________________\n",
      "decoder_3_1a_conv (Conv2D)      (None, 16, 16, 64)   32832       concatenate_1[0][0]              \n",
      "__________________________________________________________________________________________________\n",
      "decoder_3_1a_bn (BatchNormaliza (None, 16, 16, 64)   256         decoder_3_1a_conv[0][0]          \n",
      "__________________________________________________________________________________________________\n",
      "decoder_3_1a_act (Activation)   (None, 16, 16, 64)   0           decoder_3_1a_bn[0][0]            \n",
      "__________________________________________________________________________________________________\n",
      "decoder_3_1b_fullconv (Conv2DTr (None, 32, 32, 64)   36928       decoder_3_1a_act[0][0]           \n",
      "__________________________________________________________________________________________________\n",
      "decoder_3_1b_bn (BatchNormaliza (None, 32, 32, 64)   256         decoder_3_1b_fullconv[0][0]      \n",
      "__________________________________________________________________________________________________\n",
      "decoder_3_1b_act (Activation)   (None, 32, 32, 64)   0           decoder_3_1b_bn[0][0]            \n",
      "__________________________________________________________________________________________________\n",
      "decoder_3_1c_conv (Conv2D)      (None, 32, 32, 128)  8320        decoder_3_1b_act[0][0]           \n",
      "__________________________________________________________________________________________________\n",
      "decoder_3_1c_bn (BatchNormaliza (None, 32, 32, 128)  512         decoder_3_1c_conv[0][0]          \n",
      "__________________________________________________________________________________________________\n",
      "decoder_3_1c_act (Activation)   (None, 32, 32, 128)  0           decoder_3_1c_bn[0][0]            \n",
      "__________________________________________________________________________________________________\n",
      "concatenate_2 (Concatenate)     (None, 32, 32, 256)  0           decoder_3_1c_act[0][0]           \n",
      "                                                                 encoder_2_2b_act[0][0]           \n",
      "__________________________________________________________________________________________________\n",
      "decoder_2_1a_conv (Conv2D)      (None, 32, 32, 32)   8224        concatenate_2[0][0]              \n",
      "__________________________________________________________________________________________________\n",
      "decoder_2_1a_bn (BatchNormaliza (None, 32, 32, 32)   128         decoder_2_1a_conv[0][0]          \n",
      "__________________________________________________________________________________________________\n",
      "decoder_2_1a_act (Activation)   (None, 32, 32, 32)   0           decoder_2_1a_bn[0][0]            \n",
      "__________________________________________________________________________________________________\n",
      "decoder_2_1b_fullconv (Conv2DTr (None, 64, 64, 32)   9248        decoder_2_1a_act[0][0]           \n",
      "__________________________________________________________________________________________________\n",
      "decoder_2_1b_bn (BatchNormaliza (None, 64, 64, 32)   128         decoder_2_1b_fullconv[0][0]      \n",
      "__________________________________________________________________________________________________\n",
      "decoder_2_1b_act (Activation)   (None, 64, 64, 32)   0           decoder_2_1b_bn[0][0]            \n",
      "__________________________________________________________________________________________________\n",
      "decoder_2_1c_conv (Conv2D)      (None, 64, 64, 64)   2112        decoder_2_1b_act[0][0]           \n",
      "__________________________________________________________________________________________________\n",
      "decoder_2_1c_bn (BatchNormaliza (None, 64, 64, 64)   256         decoder_2_1c_conv[0][0]          \n",
      "__________________________________________________________________________________________________\n",
      "decoder_2_1c_act (Activation)   (None, 64, 64, 64)   0           decoder_2_1c_bn[0][0]            \n",
      "__________________________________________________________________________________________________\n",
      "concatenate_3 (Concatenate)     (None, 64, 64, 128)  0           decoder_2_1c_act[0][0]           \n",
      "                                                                 encoder_1_2b_act[0][0]           \n",
      "__________________________________________________________________________________________________\n",
      "decoder_1_1a_conv (Conv2D)      (None, 64, 64, 16)   2064        concatenate_3[0][0]              \n",
      "__________________________________________________________________________________________________\n",
      "decoder_1_1a_bn (BatchNormaliza (None, 64, 64, 16)   64          decoder_1_1a_conv[0][0]          \n",
      "__________________________________________________________________________________________________\n",
      "decoder_1_1a_act (Activation)   (None, 64, 64, 16)   0           decoder_1_1a_bn[0][0]            \n",
      "__________________________________________________________________________________________________\n",
      "decoder_1_1b_fullconv (Conv2DTr (None, 128, 128, 16) 2320        decoder_1_1a_act[0][0]           \n",
      "__________________________________________________________________________________________________\n",
      "decoder_1_1b_bn (BatchNormaliza (None, 128, 128, 16) 64          decoder_1_1b_fullconv[0][0]      \n",
      "__________________________________________________________________________________________________\n",
      "decoder_1_1b_act (Activation)   (None, 128, 128, 16) 0           decoder_1_1b_bn[0][0]            \n",
      "__________________________________________________________________________________________________\n",
      "decoder_1_1c_conv (Conv2D)      (None, 128, 128, 64) 1088        decoder_1_1b_act[0][0]           \n",
      "__________________________________________________________________________________________________\n",
      "decoder_1_1c_bn (BatchNormaliza (None, 128, 128, 64) 256         decoder_1_1c_conv[0][0]          \n",
      "__________________________________________________________________________________________________\n",
      "decoder_1_1c_act (Activation)   (None, 128, 128, 64) 0           decoder_1_1c_bn[0][0]            \n",
      "__________________________________________________________________________________________________\n",
      "final_1_fullconv (Conv2DTranspo (None, 256, 256, 32) 18464       decoder_1_1c_act[0][0]           \n",
      "__________________________________________________________________________________________________\n",
      "final_1_bn (BatchNormalization) (None, 256, 256, 32) 128         final_1_fullconv[0][0]           \n",
      "__________________________________________________________________________________________________\n",
      "final__1_act (Activation)       (None, 256, 256, 32) 0           final_1_bn[0][0]                 \n",
      "__________________________________________________________________________________________________\n",
      "final_2_conv (Conv2D)           (None, 256, 256, 32) 9248        final__1_act[0][0]               \n",
      "__________________________________________________________________________________________________\n",
      "final_2_bn (BatchNormalization) (None, 256, 256, 32) 128         final_2_conv[0][0]               \n",
      "__________________________________________________________________________________________________\n",
      "final__2_act (Activation)       (None, 256, 256, 32) 0           final_2_bn[0][0]                 \n",
      "__________________________________________________________________________________________________\n",
      "final_3_fullconv (Conv2DTranspo (None, 512, 512, 1)  129         final__2_act[0][0]               \n",
      "__________________________________________________________________________________________________\n",
      "activation_1 (Activation)       (None, 512, 512, 1)  0           final_3_fullconv[0][0]           \n",
      "==================================================================================================\n",
      "Total params: 11,572,961\n",
      "Trainable params: 11,563,041\n",
      "Non-trainable params: 9,920\n",
      "__________________________________________________________________________________________________\n"
     ]
    }
   ],
   "source": [
    "model = linknet.build_LinkNet(input_shape=(512,512, 3))\n",
    "model.summary()"
   ]
  },
  {
   "cell_type": "markdown",
   "metadata": {},
   "source": [
    "## Data, Preprocessing, Augmentation"
   ]
  },
  {
   "cell_type": "markdown",
   "metadata": {},
   "source": [
    "#### Data\n",
    "The training dataset consists of 5088 images. Each car is presented in 16 fixed photo angles. The ground truth training mask images were converted from *.gif* to *.png* format so as to be compatible with the *OpenCV* library. \n",
    "\n",
    "The Carvana dataset can be found [here](https://www.kaggle.com/c/carvana-image-masking-challenge/data). The training images and ground truth masks are in the *train* and *train_masks* folders respectively. The test data was not used."
   ]
  },
  {
   "cell_type": "code",
   "execution_count": 7,
   "metadata": {
    "ExecuteTime": {
     "end_time": "2017-09-04T16:50:34.627786Z",
     "start_time": "2017-09-04T16:50:33.936807Z"
    },
    "collapsed": true
   },
   "outputs": [],
   "source": [
    "df_train = pd.read_csv(DATAPATH+'/train_masks.csv')"
   ]
  },
  {
   "cell_type": "code",
   "execution_count": 8,
   "metadata": {
    "ExecuteTime": {
     "end_time": "2017-09-04T16:50:34.647571Z",
     "start_time": "2017-09-04T16:50:34.629747Z"
    },
    "collapsed": true
   },
   "outputs": [],
   "source": [
    "df_train = df_train.iloc[2:,:]\n",
    "#df_train.head()"
   ]
  },
  {
   "cell_type": "code",
   "execution_count": 9,
   "metadata": {
    "ExecuteTime": {
     "end_time": "2017-09-04T16:50:35.817191Z",
     "start_time": "2017-09-04T16:50:35.810931Z"
    },
    "collapsed": true
   },
   "outputs": [],
   "source": [
    "ids_train = df_train['img'].map(lambda s: s.split('.')[0])"
   ]
  },
  {
   "cell_type": "code",
   "execution_count": 11,
   "metadata": {
    "ExecuteTime": {
     "end_time": "2017-09-04T16:50:36.231117Z",
     "start_time": "2017-09-04T16:50:36.225000Z"
    },
    "collapsed": true
   },
   "outputs": [],
   "source": [
    "ids_train_split, ids_valid_split = \\\n",
    "    train_test_split(ids_train, test_size=0.2, random_state=42)"
   ]
  },
  {
   "cell_type": "markdown",
   "metadata": {},
   "source": [
    "#### Preprocessing -- rescaling (input and mask data)\n",
    "The original image resolution of 1918 x 1280 was downsampled to 512 x 512 using the *OpenCV* library functions."
   ]
  },
  {
   "cell_type": "code",
   "execution_count": 3,
   "metadata": {
    "ExecuteTime": {
     "end_time": "2017-09-04T16:50:33.348138Z",
     "start_time": "2017-09-04T16:50:33.344715Z"
    },
    "collapsed": true
   },
   "outputs": [],
   "source": [
    "input_width = 512\n",
    "input_height = 512\n",
    "max_epochs = 5\n",
    "orig_width = 1918\n",
    "orig_height= 1280\n",
    "threshold  = 0.5"
   ]
  },
  {
   "cell_type": "code",
   "execution_count": 12,
   "metadata": {
    "ExecuteTime": {
     "end_time": "2017-09-04T16:54:47.383436Z",
     "start_time": "2017-09-04T16:51:01.386483Z"
    },
    "collapsed": true
   },
   "outputs": [],
   "source": [
    "all_imgs  = {}\n",
    "all_masks = {}\n",
    "\n",
    "for id in ids_train:\n",
    "    img  = cv2.imread(DATAPATH+'/train/{}.jpg'.format(id))\n",
    "    img  = cv2.resize(img, (input_width, input_height))\n",
    "    mask = cv2.imread(DATAPATH+'/train_masks_png/{}_mask.png'.format(id), cv2.IMREAD_GRAYSCALE)\n",
    "    mask = cv2.resize(mask, (input_width, input_height))\n",
    "    all_imgs[id]  = img\n",
    "    all_masks[id] = mask"
   ]
  },
  {
   "cell_type": "markdown",
   "metadata": {},
   "source": [
    "#### Augmentation\n",
    "\n",
    "The following transformations using the *OpenCV* library were made:\n",
    "* Hue, Saturation, Value using randomHueSaturationValue\n",
    "* Shift, Scale, Rotate using randomShiftScaleRotate\n",
    "* Horizontal flips using randomHorizontalFlip"
   ]
  },
  {
   "cell_type": "markdown",
   "metadata": {},
   "source": [
    "## Training"
   ]
  },
  {
   "cell_type": "code",
   "execution_count": 15,
   "metadata": {
    "ExecuteTime": {
     "end_time": "2017-09-04T16:55:10.381921Z",
     "start_time": "2017-09-04T16:55:10.362537Z"
    },
    "collapsed": true
   },
   "outputs": [],
   "source": [
    "def train_generator(train_batch_size):\n",
    "    while True:\n",
    "        this_ids_train_split = random.sample(list(ids_train_split), len(ids_train_split))\n",
    "        for start in range(0, len(ids_train_split), train_batch_size):\n",
    "            x_batch = []\n",
    "            y_batch = []\n",
    "            end = min(start + train_batch_size, len(ids_train_split))\n",
    "            ids_train_batch = this_ids_train_split[start:end]\n",
    "            for id in ids_train_batch:\n",
    "                img  = all_imgs[id]\n",
    "                mask = all_masks[id]\n",
    "                img = augmentation.randomHueSaturationValue(img,\n",
    "                                               hue_shift_limit=(-50, 50),\n",
    "                                               sat_shift_limit=(-5, 5),\n",
    "                                               val_shift_limit=(-15, 15))\n",
    "                img, mask = augmentation.randomShiftScaleRotate(img, mask,\n",
    "                                                   shift_limit=(-0.0625, 0.0625),\n",
    "                                                   scale_limit=(-0.1, 0.1),\n",
    "                                                   rotate_limit=(-0, 0))\n",
    "                img, mask = augmentation.randomHorizontalFlip(img, mask)\n",
    "                mask = np.expand_dims(mask, axis=2)\n",
    "                x_batch.append(img)\n",
    "                y_batch.append(mask)\n",
    "            x_batch = np.array(x_batch, np.float32) / 255\n",
    "            y_batch = np.array(y_batch, np.float32) / 255\n",
    "            yield x_batch, y_batch\n"
   ]
  },
  {
   "cell_type": "code",
   "execution_count": 16,
   "metadata": {
    "ExecuteTime": {
     "end_time": "2017-09-04T16:55:11.232951Z",
     "start_time": "2017-09-04T16:55:11.222686Z"
    },
    "collapsed": true
   },
   "outputs": [],
   "source": [
    "def valid_generator(val_batch_size):\n",
    "    while True:\n",
    "        for start in range(0, len(ids_valid_split), val_batch_size):\n",
    "            x_batch = []\n",
    "            y_batch = []\n",
    "            end = min(start + val_batch_size, len(ids_valid_split))\n",
    "            ids_valid_batch = ids_valid_split[start:end]\n",
    "            for id in ids_valid_batch.values:\n",
    "                img  = all_imgs[id]\n",
    "                mask = all_masks[id]\n",
    "                mask = np.expand_dims(mask, axis=2)\n",
    "                x_batch.append(img)\n",
    "                y_batch.append(mask)\n",
    "            x_batch = np.array(x_batch, np.float32) / 255\n",
    "            y_batch = np.array(y_batch, np.float32) / 255\n",
    "            yield x_batch, y_batch\n"
   ]
  },
  {
   "cell_type": "code",
   "execution_count": 18,
   "metadata": {
    "ExecuteTime": {
     "end_time": "2017-09-04T16:55:12.717822Z",
     "start_time": "2017-09-04T16:55:12.715003Z"
    },
    "collapsed": true
   },
   "outputs": [],
   "source": [
    "train_batch_size = 6\n",
    "val_batch_size   = 16"
   ]
  },
  {
   "cell_type": "code",
   "execution_count": 19,
   "metadata": {
    "ExecuteTime": {
     "end_time": "2017-08-24T19:10:46.231022Z",
     "start_time": "2017-08-23T18:00:39.037950Z"
    },
    "scrolled": true
   },
   "outputs": [
    {
     "name": "stdout",
     "output_type": "stream",
     "text": [
      "Epoch 1/5\n",
      " - 395s - loss: 1.1837 - dice_coef: 0.9106 - val_loss: 0.7282 - val_dice_coef: 0.9767\n",
      "Epoch 2/5\n",
      " - 285s - loss: 0.4947 - dice_coef: 0.9793 - val_loss: 0.3354 - val_dice_coef: 0.9818\n",
      "Epoch 3/5\n",
      " - 285s - loss: 0.2512 - dice_coef: 0.9836 - val_loss: 0.1952 - val_dice_coef: 0.9858\n",
      "Epoch 4/5\n",
      " - 285s - loss: 0.1664 - dice_coef: 0.9857 - val_loss: 0.1435 - val_dice_coef: 0.9874\n",
      "Epoch 5/5\n",
      " - 285s - loss: 0.1319 - dice_coef: 0.9870 - val_loss: 0.1187 - val_dice_coef: 0.9888\n"
     ]
    }
   ],
   "source": [
    "callbacks = [ReduceLROnPlateau(monitor='val_dice_coef',\n",
    "                               factor=0.2,\n",
    "                               patience=3,\n",
    "                               verbose=1,\n",
    "                               epsilon=1e-4,\n",
    "                               mode='max'),\n",
    "             ModelCheckpoint(monitor='val_dice_coef',\n",
    "                             filepath='../weights/best_weights_linknet_1.hdf5',\n",
    "                             save_best_only=True,\n",
    "                             save_weights_only=True,\n",
    "                             mode='max')]\n",
    "\n",
    "history = model.fit_generator(generator=train_generator(train_batch_size),\n",
    "                    steps_per_epoch=np.ceil(float(len(ids_train_split)) / float(train_batch_size)),\n",
    "                    epochs=max_epochs,\n",
    "                    verbose=2,\n",
    "                    callbacks=callbacks,\n",
    "                    validation_data=valid_generator(val_batch_size),\n",
    "                    validation_steps=np.ceil(float(len(ids_valid_split)) / float(val_batch_size)))\n"
   ]
  },
  {
   "cell_type": "code",
   "execution_count": 20,
   "metadata": {
    "ExecuteTime": {
     "end_time": "2017-08-24T19:10:46.242155Z",
     "start_time": "2017-08-24T19:10:46.232898Z"
    },
    "collapsed": true
   },
   "outputs": [],
   "source": [
    "model.load_weights('../weights/best_weights_linknet_1.hdf5')"
   ]
  },
  {
   "cell_type": "code",
   "execution_count": 25,
   "metadata": {
    "ExecuteTime": {
     "end_time": "2017-09-04T16:55:42.375194Z",
     "start_time": "2017-09-04T16:55:30.907272Z"
    },
    "collapsed": true
   },
   "outputs": [],
   "source": [
    "model.compile(optimizer=RMSprop(lr=0.00001), loss=losses.bce_dice_loss, \n",
    "              metrics=[losses.dice_coef])"
   ]
  },
  {
   "cell_type": "code",
   "execution_count": 26,
   "metadata": {
    "collapsed": true
   },
   "outputs": [],
   "source": [
    "max_epochs = 20"
   ]
  },
  {
   "cell_type": "code",
   "execution_count": 27,
   "metadata": {},
   "outputs": [
    {
     "name": "stdout",
     "output_type": "stream",
     "text": [
      "Epoch 1/20\n",
      " - 290s - loss: 0.1168 - dice_coef: 0.9888 - val_loss: 0.1137 - val_dice_coef: 0.9897\n",
      "Epoch 2/20\n",
      " - 285s - loss: 0.1136 - dice_coef: 0.9892 - val_loss: 0.1113 - val_dice_coef: 0.9898\n",
      "Epoch 3/20\n",
      " - 285s - loss: 0.1111 - dice_coef: 0.9894 - val_loss: 0.1088 - val_dice_coef: 0.9901\n",
      "Epoch 4/20\n",
      " - 285s - loss: 0.1087 - dice_coef: 0.9897 - val_loss: 0.1066 - val_dice_coef: 0.9902\n",
      "Epoch 5/20\n",
      " - 285s - loss: 0.1066 - dice_coef: 0.9898 - val_loss: 0.1045 - val_dice_coef: 0.9904\n",
      "Epoch 6/20\n",
      " - 285s - loss: 0.1045 - dice_coef: 0.9900 - val_loss: 0.1027 - val_dice_coef: 0.9904\n",
      "Epoch 7/20\n",
      " - 285s - loss: 0.1027 - dice_coef: 0.9900 - val_loss: 0.1009 - val_dice_coef: 0.9905\n",
      "Epoch 8/20\n",
      " - 285s - loss: 0.1009 - dice_coef: 0.9902 - val_loss: 0.0992 - val_dice_coef: 0.9906\n",
      "Epoch 9/20\n",
      " - 285s - loss: 0.0992 - dice_coef: 0.9903 - val_loss: 0.0974 - val_dice_coef: 0.9908\n",
      "Epoch 10/20\n",
      " - 284s - loss: 0.0976 - dice_coef: 0.9904 - val_loss: 0.0962 - val_dice_coef: 0.9907\n",
      "Epoch 11/20\n",
      " - 285s - loss: 0.0961 - dice_coef: 0.9905 - val_loss: 0.0945 - val_dice_coef: 0.9909\n",
      "Epoch 12/20\n",
      " - 286s - loss: 0.0945 - dice_coef: 0.9906 - val_loss: 0.0932 - val_dice_coef: 0.9909\n",
      "Epoch 13/20\n",
      " - 285s - loss: 0.0930 - dice_coef: 0.9907 - val_loss: 0.0916 - val_dice_coef: 0.9911\n",
      "Epoch 14/20\n",
      " - 285s - loss: 0.0916 - dice_coef: 0.9908 - val_loss: 0.0905 - val_dice_coef: 0.9911\n",
      "Epoch 15/20\n",
      " - 285s - loss: 0.0903 - dice_coef: 0.9909 - val_loss: 0.0890 - val_dice_coef: 0.9912\n",
      "Epoch 16/20\n",
      " - 284s - loss: 0.0889 - dice_coef: 0.9909 - val_loss: 0.0880 - val_dice_coef: 0.9911\n",
      "Epoch 17/20\n",
      " - 285s - loss: 0.0878 - dice_coef: 0.9909 - val_loss: 0.0865 - val_dice_coef: 0.9913\n",
      "Epoch 18/20\n",
      " - 285s - loss: 0.0865 - dice_coef: 0.9911 - val_loss: 0.0853 - val_dice_coef: 0.9914\n",
      "Epoch 19/20\n",
      " - 285s - loss: 0.0853 - dice_coef: 0.9911 - val_loss: 0.0842 - val_dice_coef: 0.9914\n",
      "Epoch 20/20\n",
      " - 284s - loss: 0.0841 - dice_coef: 0.9912 - val_loss: 0.0833 - val_dice_coef: 0.9914\n"
     ]
    }
   ],
   "source": [
    "callbacks = [ReduceLROnPlateau(monitor='val_dice_coef',\n",
    "                               factor=0.2,\n",
    "                               patience=3,\n",
    "                               verbose=1,\n",
    "                               epsilon=1e-4,\n",
    "                               mode='max'),\n",
    "             ModelCheckpoint(monitor='val_dice_coef',\n",
    "                             filepath='../weights/best_weights_linknet_1.hdf5',\n",
    "                             save_best_only=True,\n",
    "                             save_weights_only=True,\n",
    "                             mode='max')]\n",
    "\n",
    "history = model.fit_generator(generator=train_generator(train_batch_size),\n",
    "                    steps_per_epoch=np.ceil(float(len(ids_train_split)) / float(train_batch_size)),\n",
    "                    epochs=max_epochs,\n",
    "                    verbose=2,\n",
    "                    callbacks=callbacks,\n",
    "                    validation_data=valid_generator(val_batch_size),\n",
    "                    validation_steps=np.ceil(float(len(ids_valid_split)) / float(val_batch_size)))"
   ]
  },
  {
   "cell_type": "code",
   "execution_count": 50,
   "metadata": {},
   "outputs": [
    {
     "data": {
      "image/png": "[encoded data removed]",
      "text/plain": [
       "<matplotlib.figure.Figure at 0x7f25388cbbe0>"
      ]
     },
     "metadata": {},
     "output_type": "display_data"
    }
   ],
   "source": [
    "#plt.plot(history.history['loss'])\n",
    "#plt.plot(history.history['val_loss'])\n",
    "plt.plot(loss)\n",
    "plt.plot(val_loss)\n",
    "plt.title('model loss')\n",
    "plt.ylabel('loss')\n",
    "plt.xlabel('epoch')\n",
    "plt.legend(['train', 'test'], loc='upper right')\n",
    "plt.show();"
   ]
  },
  {
   "cell_type": "markdown",
   "metadata": {},
   "source": [
    "## Remarks\n",
    "\n",
    "The LinkNet was designed to be efficient for real-time semantic segmentation applications, i.e. to obtain near state-of-the-art scores without compromising processing time. In this run, each epoch took ~4-5 minutes with a NVIDIA Tesla K80 GPU. This is an order of magnitude faster than several custom U-Net models that were run using the same dataset/image resolution (the U-Net models took 40-50 mins/epoch). The U-Net models ranged from 3.6 - 8.5 million parameters; the LinkNet has 11.6 million parameters so in terms of processing time the LinkNet is a clear winner.   \n",
    "In terms of the accuracy, while the U-Net models performed very well in the Carvana challenge, some of the top entries (the [first](http://blog.kaggle.com/2017/12/22/carvana-image-masking-first-place-interview/?utm_medium=social&utm_source=twitter.com&utm_campaign=carvana+winners+interview) and sixth place winners) used an ensemble of both U-Net and LinkNet models\n"
   ]
  },
  {
   "cell_type": "markdown",
   "metadata": {},
   "source": [
    "## References and Further Reading \n",
    "\n",
    "<a name=\"ref1\"></a>[1] [Chaurasia, Abhishek, Culurciello, Eugenio. \"LinkNet: Exploiting Encoder Representations for Efficient Semantic Segmentation.\" arXiv:1707.03718v1(cs.CV)](https://arxiv.org/pdf/1707.03718.pdf)  \n",
    "\n",
    "<a name=\"ref2\"></a>[2] [He, Kaiming et al. \"Deep Residual Learning for Image Recognition.\" arXiv:1512.03385 [cs.CV]](https://arxiv.org/pdf/1512.03385.pdf)"
   ]
  },
  {
   "cell_type": "markdown",
   "metadata": {
    "collapsed": true
   },
   "source": [
    "<div style=\"background-color: #FAAC58; margin-left: 0px; margin-right: 20px; padding-bottom: 8px; padding-left: 8px; padding-right: 8px; padding-top: 8px;\">\n",
    "\n",
    "\n",
    "Author:  Meena Mani  <br>\n",
    "Email:   meenas.mailbag@gmail.com   <br> \n",
    "Twitter: @meena_uvaca    <br>\n",
    "</div>"
   ]
  }
 ],
 "metadata": {
  "anaconda-cloud": {},
  "kernelspec": {
   "display_name": "Python 3",
   "language": "python",
   "name": "python3"
  },
  "language_info": {
   "codemirror_mode": {
    "name": "ipython",
    "version": 3
   },
   "file_extension": ".py",
   "mimetype": "text/x-python",
   "name": "python",
   "nbconvert_exporter": "python",
   "pygments_lexer": "ipython3",
   "version": "3.6.3"
  },
  "toc": {
   "colors": {
    "hover_highlight": "#DAA520",
    "navigate_num": "#000000",
    "navigate_text": "#333333",
    "running_highlight": "#FF0000",
    "selected_highlight": "#FFD700",
    "sidebar_border": "#EEEEEE",
    "wrapper_background": "#FFFFFF"
   },
   "moveMenuLeft": true,
   "nav_menu": {
    "height": "48px",
    "width": "252px"
   },
   "navigate_menu": true,
   "number_sections": true,
   "sideBar": true,
   "threshold": 4,
   "toc_cell": true,
   "toc_section_display": "block",
   "toc_window_display": false,
   "widenNotebook": false
  }
 },
 "nbformat": 4,
 "nbformat_minor": 2
}
